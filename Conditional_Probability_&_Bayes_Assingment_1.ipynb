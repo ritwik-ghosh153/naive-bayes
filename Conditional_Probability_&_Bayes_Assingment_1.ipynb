{
  "nbformat": 4,
  "nbformat_minor": 0,
  "metadata": {
    "colab": {
      "name": "Conditional_Probability_&_Bayes_Assingment_1.ipynb",
      "provenance": [],
      "collapsed_sections": [],
      "toc_visible": true
    },
    "kernelspec": {
      "name": "python3",
      "display_name": "Python 3"
    }
  },
  "cells": [
    {
      "cell_type": "markdown",
      "metadata": {
        "id": "TbwCOSBhwl34",
        "colab_type": "text"
      },
      "source": [
        "#Bayes' Theorem \n",
        "\n",
        "It is said that the Reverend Thomas Bayes developed his rule on inverse probability while he was trying to prove the existence of God somewhere around 1740. He came up with a method for calculating the probability of an event occurring given that another event has occurred. Starting out with the prior probability (or believe) $P(A)$, when given a likelihood) $P(B\\ |\\ A)$ and evidence $P(B)$ we arrive at the posterior probability $P(A\\ |\\ B)$. Bayes Rule proves to be a powerful tool and is widely used in diverging areas like economics, artificial intelligence, medicine, journalism, military, just to name a few. Most spam filters use Bayes Rule in one way or another. The Bayes' Theorem formula is, posterior = likelihood times prior, over evidence:\n",
        "\n",
        "$$\n",
        "P(A\\ |\\ B)=\\frac{P(B\\ |\\ A)\\cdot P(A)}{P(B)}\n",
        "$$\n",
        "The practical power of Bayes Rule is that we often can't find the posterior directly, yet we do know the likelihood of the test and $P(A)$."
      ]
    },
    {
      "cell_type": "code",
      "metadata": {
        "id": "JiJqw-8Gn27q",
        "colab_type": "code",
        "outputId": "3d51bb9a-3b8f-4124-bbd7-499adac2e30f",
        "colab": {
          "base_uri": "https://localhost:8080/",
          "height": 34
        }
      },
      "source": [
        "print(\"-\"*100)"
      ],
      "execution_count": 0,
      "outputs": [
        {
          "output_type": "stream",
          "text": [
            "----------------------------------------------------------------------------------------------------\n"
          ],
          "name": "stdout"
        }
      ]
    },
    {
      "cell_type": "markdown",
      "metadata": {
        "id": "Pt-CNCwbsgIr",
        "colab_type": "text"
      },
      "source": [
        "\n",
        "\n",
        "\n",
        "\n",
        "Q1- What is the chance of someone having COPD (a life-threatening lung disease) given he or she is a smoker - $P(A|B)$. This statistic is hard to figure out, but we do know from medical studies the probability of someone being a smoker given that he/she has COPD - $P(B|A)$. We also know $P(B)$ - the probability that a person is a smoker and $P(A)$ - the chance that someone has COPD. The figures below are rough estimations:\n",
        "\n",
        "$$\n",
        "P(A)=0.07\\ \\small{having\\ COPD}\\\\\n",
        "P(B)=0.18\\ \\small{smokers}\\\\\n",
        "P(B\\ |\\ A)=0.85\\ \\small{is\\ or\\ was\\ smoker\\ and\\ given\\ COPD\\ diagnosis}\n",
        "$$\n"
      ]
    },
    {
      "cell_type": "code",
      "metadata": {
        "id": "zL06pf9CwJcM",
        "colab_type": "code",
        "colab": {}
      },
      "source": [
        "#Q1- Now Answer- What is the probability of someone having COPD given the person is or was a smoker?:"
      ],
      "execution_count": 0,
      "outputs": []
    },
    {
      "cell_type": "code",
      "metadata": {
        "id": "L5Yub66Tsg5j",
        "colab_type": "code",
        "colab": {}
      },
      "source": [
        "#import packages\n",
        "import numpy as np\n",
        "import pandas as pd"
      ],
      "execution_count": 0,
      "outputs": []
    },
    {
      "cell_type": "code",
      "metadata": {
        "id": "wRtFE-zJvYYk",
        "colab_type": "code",
        "colab": {
          "base_uri": "https://localhost:8080/",
          "height": 187
        },
        "outputId": "2ef6903f-99ee-4fd5-bc28-07a5b220a59c"
      },
      "source": [
        "# load dataset\n",
        "df = pd.read_csv('cancer_test_data.csv')\n",
        "df.info()"
      ],
      "execution_count": 6,
      "outputs": [
        {
          "output_type": "stream",
          "text": [
            "<class 'pandas.core.frame.DataFrame'>\n",
            "RangeIndex: 2914 entries, 0 to 2913\n",
            "Data columns (total 3 columns):\n",
            " #   Column       Non-Null Count  Dtype \n",
            "---  ------       --------------  ----- \n",
            " 0   patient_id   2914 non-null   int64 \n",
            " 1   test_result  2914 non-null   object\n",
            " 2   has_cancer   2914 non-null   bool  \n",
            "dtypes: bool(1), int64(1), object(1)\n",
            "memory usage: 48.5+ KB\n"
          ],
          "name": "stdout"
        }
      ]
    },
    {
      "cell_type": "markdown",
      "metadata": {
        "id": "DUdLqd6sk64b",
        "colab_type": "text"
      },
      "source": [
        "### Given,\n",
        "### P(A) = Probability that a person has COPD\n",
        "### P(B) = Probability that a person is a smoker\n",
        "$$\n",
        "P(A)=0.07\\ \\small{having\\ COPD}\\\\\n",
        "P(B)=0.18\\ \\small{smokers}\\\\\n",
        "P(B\\ |\\ A)=0.85\\ \\small{is\\ or\\ was\\ smoker\\ and\\ given\\ COPD\\ diagnosis}\n",
        "$$"
      ]
    },
    {
      "cell_type": "markdown",
      "metadata": {
        "id": "EvQiGZH8lTtn",
        "colab_type": "text"
      },
      "source": [
        "### We need to find P(A | B), which is the probablity of someone having COPD given a person is a smoker.\n",
        "### Therefore,\n",
        "### P(A | B) = P(B | A) * P(A) / P(B)\n",
        "##### (Bayes' theorem)"
      ]
    },
    {
      "cell_type": "code",
      "metadata": {
        "id": "_W48M2PgnKqr",
        "colab_type": "code",
        "colab": {
          "base_uri": "https://localhost:8080/",
          "height": 34
        },
        "outputId": "662873b2-0ec5-4793-99bc-a4704f0aae70"
      },
      "source": [
        "# Given values\n",
        "Pa=0.07\n",
        "Pb= 0.18\n",
        "PBgivenA= 0.85\n",
        "# printing result\n",
        "print('Probablity of someone having COPD given a person is a smoker={0:0.3}'.format(PBgivenA*Pa/Pb) )"
      ],
      "execution_count": 8,
      "outputs": [
        {
          "output_type": "stream",
          "text": [
            "Probablity of someone having COPD given a person is a smoker=0.331\n"
          ],
          "name": "stdout"
        }
      ]
    },
    {
      "cell_type": "markdown",
      "metadata": {
        "id": "ewBwa6its0KQ",
        "colab_type": "text"
      },
      "source": [
        "<a href='https://drive.google.com/open?id=1ygFo91YMrHECMX9g0XKq3flK9XepdHex'> Data Set Link 1</a>   Drive\n",
        "\n"
      ]
    },
    {
      "cell_type": "code",
      "metadata": {
        "id": "-hzLnvE-vgPx",
        "colab_type": "code",
        "colab": {}
      },
      "source": [
        "#Q2- What proportion of patients who tested positive has cancer?"
      ],
      "execution_count": 0,
      "outputs": []
    },
    {
      "cell_type": "code",
      "metadata": {
        "id": "RzoOWWxXoraA",
        "colab_type": "code",
        "colab": {
          "base_uri": "https://localhost:8080/",
          "height": 204
        },
        "outputId": "9d5a0e36-efe6-4a3f-d2ec-ad69bc46f4c8"
      },
      "source": [
        "df.head()"
      ],
      "execution_count": 9,
      "outputs": [
        {
          "output_type": "execute_result",
          "data": {
            "text/html": [
              "<div>\n",
              "<style scoped>\n",
              "    .dataframe tbody tr th:only-of-type {\n",
              "        vertical-align: middle;\n",
              "    }\n",
              "\n",
              "    .dataframe tbody tr th {\n",
              "        vertical-align: top;\n",
              "    }\n",
              "\n",
              "    .dataframe thead th {\n",
              "        text-align: right;\n",
              "    }\n",
              "</style>\n",
              "<table border=\"1\" class=\"dataframe\">\n",
              "  <thead>\n",
              "    <tr style=\"text-align: right;\">\n",
              "      <th></th>\n",
              "      <th>patient_id</th>\n",
              "      <th>test_result</th>\n",
              "      <th>has_cancer</th>\n",
              "    </tr>\n",
              "  </thead>\n",
              "  <tbody>\n",
              "    <tr>\n",
              "      <th>0</th>\n",
              "      <td>79452</td>\n",
              "      <td>Negative</td>\n",
              "      <td>False</td>\n",
              "    </tr>\n",
              "    <tr>\n",
              "      <th>1</th>\n",
              "      <td>81667</td>\n",
              "      <td>Positive</td>\n",
              "      <td>True</td>\n",
              "    </tr>\n",
              "    <tr>\n",
              "      <th>2</th>\n",
              "      <td>76297</td>\n",
              "      <td>Negative</td>\n",
              "      <td>False</td>\n",
              "    </tr>\n",
              "    <tr>\n",
              "      <th>3</th>\n",
              "      <td>36593</td>\n",
              "      <td>Negative</td>\n",
              "      <td>False</td>\n",
              "    </tr>\n",
              "    <tr>\n",
              "      <th>4</th>\n",
              "      <td>53717</td>\n",
              "      <td>Negative</td>\n",
              "      <td>False</td>\n",
              "    </tr>\n",
              "  </tbody>\n",
              "</table>\n",
              "</div>"
            ],
            "text/plain": [
              "   patient_id test_result  has_cancer\n",
              "0       79452    Negative       False\n",
              "1       81667    Positive        True\n",
              "2       76297    Negative       False\n",
              "3       36593    Negative       False\n",
              "4       53717    Negative       False"
            ]
          },
          "metadata": {
            "tags": []
          },
          "execution_count": 9
        }
      ]
    },
    {
      "cell_type": "code",
      "metadata": {
        "id": "AZYQvHXro-zG",
        "colab_type": "code",
        "colab": {
          "base_uri": "https://localhost:8080/",
          "height": 34
        },
        "outputId": "ab4eaf26-e519-44f5-98be-43e0758045cd"
      },
      "source": [
        "# Let A = Patients who have cancer, B = Patients who tested Positive (given)\n",
        "# finding all patients who have tested positive (this is B)\n",
        "total_positive=df[df['test_result']=='Positive']\n",
        "# finding all patients who have cancer who tested positive (this is A ∩ B)\n",
        "positive_cancer= total_positive[total_positive['has_cancer']==True]\n",
        "\n",
        "#calculating probabilities\n",
        "PAintersectionB= len(positive_cancer)/len(df)\n",
        "Pb=len(total_positive)/len(df)\n",
        "\n",
        "#Using the conditional probability formula P(A | B)= P(A ∩ B)/P(B)\n",
        "print('Proportion of patients who tested positive and have cancer={0:0.3}'.format(PAintersectionB/Pb))"
      ],
      "execution_count": 21,
      "outputs": [
        {
          "output_type": "stream",
          "text": [
            "Proportion of patients who tested positive and have cancer=0.343\n"
          ],
          "name": "stdout"
        }
      ]
    },
    {
      "cell_type": "code",
      "metadata": {
        "id": "6wzcxUD9vmt4",
        "colab_type": "code",
        "colab": {}
      },
      "source": [
        "#Q3- What proportion of patients who tested positive doesn't have cancer?"
      ],
      "execution_count": 0,
      "outputs": []
    },
    {
      "cell_type": "markdown",
      "metadata": {
        "id": "jQ3qhMsDuHEB",
        "colab_type": "text"
      },
      "source": [
        "### Reusing previous values:"
      ]
    },
    {
      "cell_type": "code",
      "metadata": {
        "id": "uc9aiD2ss1c0",
        "colab_type": "code",
        "colab": {
          "base_uri": "https://localhost:8080/",
          "height": 34
        },
        "outputId": "c5f5bcba-595e-457c-ff19-f6a1d2ddab6a"
      },
      "source": [
        "# Reusing previous values:\n",
        "#Therefore due to mutual exclusivity, total probability =1, then required probability = 1 - P(A ∩ B)/P(B)\n",
        "print('Proportion of patients who tested positive and do not have cancer={0:0.3}'.format(1-PAintersectionB/Pb))"
      ],
      "execution_count": 24,
      "outputs": [
        {
          "output_type": "stream",
          "text": [
            "Proportion of patients who tested positive and do not have cancer=0.657\n"
          ],
          "name": "stdout"
        }
      ]
    },
    {
      "cell_type": "markdown",
      "metadata": {
        "id": "45ZjwmbzuLet",
        "colab_type": "text"
      },
      "source": [
        "### Conversely, calculating from scratch:"
      ]
    },
    {
      "cell_type": "code",
      "metadata": {
        "id": "STvYBDv9sI7x",
        "colab_type": "code",
        "colab": {
          "base_uri": "https://localhost:8080/",
          "height": 34
        },
        "outputId": "0a4d346b-fb76-4290-a87e-c217bc60fdc7"
      },
      "source": [
        "# Let A = Patients who do not have cancer, B = Patients who tested Positive (given)\n",
        "# finding all patients who have tested positive (this is B)\n",
        "total_positive=df[df['test_result']=='Positive']\n",
        "# finding all patients who do not have cancer who tested positive (this is A ∩ B)\n",
        "positive_nocancer= total_positive[total_positive['has_cancer']==False]\n",
        "\n",
        "#calculating probabilities\n",
        "PAintersectionB= len(positive_nocancer)/len(df)\n",
        "Pb=len(total_positive)/len(df)\n",
        "\n",
        "#Using the conditional probability formula P(A | B)= P(A ∩ B)/P(B)\n",
        "print('Proportion of patients who tested positive and do not have cancer={0:0.3}'.format(PAintersectionB/Pb))"
      ],
      "execution_count": 25,
      "outputs": [
        {
          "output_type": "stream",
          "text": [
            "Proportion of patients who tested positive and do not have cancer=0.657\n"
          ],
          "name": "stdout"
        }
      ]
    },
    {
      "cell_type": "code",
      "metadata": {
        "id": "tniJH4yLvrGj",
        "colab_type": "code",
        "colab": {}
      },
      "source": [
        "#Q4- What proportion of patients who tested negative has cancer?"
      ],
      "execution_count": 0,
      "outputs": []
    },
    {
      "cell_type": "code",
      "metadata": {
        "id": "K391obujulht",
        "colab_type": "code",
        "colab": {
          "base_uri": "https://localhost:8080/",
          "height": 34
        },
        "outputId": "63c4e7be-0576-46a3-c481-6c06936d944c"
      },
      "source": [
        "# Let A = Patients who have cancer, B = Patients who tested Negative (given)\n",
        "# finding all patients who have tested Negative (this is B)\n",
        "total_negative=df[df['test_result']=='Negative']\n",
        "# finding all patients who have cancer who tested negative (this is A ∩ B)\n",
        "negative_cancer= total_negative[total_negative['has_cancer']==True]\n",
        "\n",
        "#calculating probabilities\n",
        "PAintersectionB= len(negative_cancer)/len(df)\n",
        "Pb=len(total_negative)/len(df)\n",
        "\n",
        "#Using the conditional probability formula P(A | B)= P(A ∩ B)/P(B)\n",
        "print('Proportion of patients who tested negative and have cancer={0:0.3}'.format(PAintersectionB/Pb))"
      ],
      "execution_count": 27,
      "outputs": [
        {
          "output_type": "stream",
          "text": [
            "Proportion of patients who tested negative and have cancer=0.0138\n"
          ],
          "name": "stdout"
        }
      ]
    },
    {
      "cell_type": "code",
      "metadata": {
        "id": "gHxm4eZVvsJ7",
        "colab_type": "code",
        "colab": {}
      },
      "source": [
        "#Q5- What proportion of patients who tested negative doesn't have cancer?"
      ],
      "execution_count": 0,
      "outputs": []
    },
    {
      "cell_type": "markdown",
      "metadata": {
        "id": "u1Oic2_4wKHu",
        "colab_type": "text"
      },
      "source": [
        "### Reusing previous values:"
      ]
    },
    {
      "cell_type": "code",
      "metadata": {
        "id": "4Oo_zWWyvvh_",
        "colab_type": "code",
        "colab": {
          "base_uri": "https://localhost:8080/",
          "height": 34
        },
        "outputId": "bda0701e-ef54-4a6e-e25b-c1af1b0a95b0"
      },
      "source": [
        "# Reusing previous values:\n",
        "#Therefore due to mutual exclusivity, total probability =1, then required probability = 1 - P(A ∩ B)/P(B)\n",
        "print('Proportion of patients who tested negative and do not have cancer={0:0.3}'.format(1-PAintersectionB/Pb))"
      ],
      "execution_count": 28,
      "outputs": [
        {
          "output_type": "stream",
          "text": [
            "Proportion of patients who tested negative and do not have cancer=0.986\n"
          ],
          "name": "stdout"
        }
      ]
    },
    {
      "cell_type": "markdown",
      "metadata": {
        "id": "4O4eQHINwb_Y",
        "colab_type": "text"
      },
      "source": [
        "### Conversely, calculating from scratch:"
      ]
    },
    {
      "cell_type": "code",
      "metadata": {
        "id": "W9z0BpU8wU4g",
        "colab_type": "code",
        "colab": {
          "base_uri": "https://localhost:8080/",
          "height": 34
        },
        "outputId": "edbf935a-0c3b-429b-a382-e54ceec181b5"
      },
      "source": [
        "# Let A = Patients who do not have cancer, B = Patients who tested Negative (given)\n",
        "# finding all patients who have tested Negative (this is B)\n",
        "total_negative=df[df['test_result']=='Negative']\n",
        "# finding all patients who do not have cancer who tested negative (this is A ∩ B)\n",
        "negative_cancer= total_negative[total_negative['has_cancer']==False]\n",
        "\n",
        "#calculating probabilities\n",
        "PAintersectionB= len(negative_cancer)/len(df)\n",
        "Pb=len(total_negative)/len(df)\n",
        "\n",
        "#Using the conditional probability formula P(A | B)= P(A ∩ B)/P(B)\n",
        "print('Proportion of patients who tested negative and do not have cancer={0:0.3}'.format(PAintersectionB/Pb))"
      ],
      "execution_count": 30,
      "outputs": [
        {
          "output_type": "stream",
          "text": [
            "Proportion of patients who tested negative and do not have cancer=0.986\n"
          ],
          "name": "stdout"
        }
      ]
    },
    {
      "cell_type": "code",
      "metadata": {
        "id": "ecgtVcRKwjwW",
        "colab_type": "code",
        "colab": {}
      },
      "source": [
        ""
      ],
      "execution_count": 0,
      "outputs": []
    }
  ]
}